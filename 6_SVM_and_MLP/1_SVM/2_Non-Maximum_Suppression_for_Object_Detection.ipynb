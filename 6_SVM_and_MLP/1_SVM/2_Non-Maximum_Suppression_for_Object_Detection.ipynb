{
 "cells": [
  {
   "cell_type": "markdown",
   "metadata": {},
   "source": [
    "#### Đặt vấn đề \n",
    "\n",
    "Trong khi bài toán phát hiện đối tượng Detection Object chúng ta nhận được kết quả đầu ra gồm nhiều các cửa sổ chồng chéo lên nhau. Việc chúng ta cần đó là phải tối ưu sao chỉ chọn cửa sổ tối ưu nhất khi phát hiện đối tượng.\n",
    "\n",
    "Từ thực tiễn trên chúng ta có một trong thuật toán Non_Maximum_Suppression for Dectection Object."
   ]
  },
  {
   "cell_type": "markdown",
   "metadata": {},
   "source": [
    "Trong quá tình thực hiện sẽ được giải thích trong code "
   ]
  },
  {
   "cell_type": "code",
   "execution_count": 1,
   "metadata": {},
   "outputs": [],
   "source": [
    "import numpy as np"
   ]
  },
  {
   "cell_type": "markdown",
   "metadata": {},
   "source": [
    "Mô tả input gồm :\n",
    "    \n",
    "boxes = [] gồm tập tọa độ của các điểm của hộp giới hạn.\n",
    "Mỗi thành thần i trong boxes là một tuple gồm (x_start, y_start, x_end, y_end). (x_start,y_start) toạn độ đỉnh trên cùng bên trái, (x_end, y_end) là tọa độ của đỉnh dưới cùng bên phải của hộp giới hạn.\n",
    "\n",
    "overlapthresh : là tỉ số chồng lấp thường là 0.3 đến 0.5 gọi là ngưỡng.\n",
    "\n"
   ]
  },
  {
   "cell_type": "markdown",
   "metadata": {},
   "source": [
    "Bây giờ triển khai hàm thực hiện chức năng non-maxium-supperssion.\n"
   ]
  },
  {
   "cell_type": "code",
   "execution_count": 2,
   "metadata": {},
   "outputs": [],
   "source": [
    "def non_maxium_suppression(boxes, overlapThresh):\n",
    "    \n",
    "    if len(boxes) == 0:\n",
    "        return []\n",
    "    pick = []\n",
    "    \n",
    "    x1 = boxes[:,0]\n",
    "    y1 = boxes[:,1]\n",
    "    x2 = boxes[:,2]\n",
    "    y2 = boxes[:,3]\n",
    "    print(\"x1 : \", x1)\n",
    "    print(\"y1 : \", y1)\n",
    "    print(\"x2 : \", x2)\n",
    "    print(\"y2 : \", y2)\n",
    "    \n",
    "    area = (x2 - x1 +1) * (y2 - y1 + 1) # diện tích của các hộp ( dài * rộng)\n",
    "    \n",
    "    print(\"area : \", area)\n",
    "    idxs = np.argsort(y2) \n",
    "    \n",
    "    print(\"idxs : \", idxs)\n",
    "    while len(idxs) > 0:\n",
    "         \n",
    "        #lặp qua các tất cả các hộp    \n",
    "        last = len(idxs) - 1\n",
    "        i = idxs[last]\n",
    "        # lấy hộp dưới cùng do đã sắp xếp \n",
    "        pick.append(i)  # lấy i\n",
    "        suppress = [last]\n",
    "        print(\"pick : \", pick)\n",
    "        print(\"suppress : \", suppress)\n",
    "        # loop over all indexes in the indexes list\n",
    "        for pos in range(0, last):\n",
    "            # grab the current index\n",
    "            j = idxs[pos]\n",
    " \n",
    "            # find the largest (x, y) coordinates for the start of\n",
    "            # the bounding box and the smallest (x, y) coordinates\n",
    "            # for the end of the bounding box\n",
    "            xx1 = max(x1[i], x1[j])\n",
    "            yy1 = max(y1[i], y1[j])\n",
    "            xx2 = min(x2[i], x2[j])\n",
    "            yy2 = min(y2[i], y2[j])\n",
    " \n",
    "            # compute the width and height of the bounding box\n",
    "            w = max(0, xx2 - xx1 + 1)\n",
    "            h = max(0, yy2 - yy1 + 1)\n",
    " \n",
    "            # compute the ratio of overlap between the computed\n",
    "            # bounding box and the bounding box in the area list\n",
    "            overlap = float(w * h) / area[j]\n",
    " \n",
    "                # if there is sufficient overlap, suppress the\n",
    "                # current bounding box\n",
    "            if overlap > overlapThresh:\n",
    "                suppress.append(pos)\n",
    " \n",
    "            # delete all indexes from the index list that are in the\n",
    "            # suppression list\n",
    "        idxs = np.delete(idxs, suppress)\n",
    "        print(\"idxs : \", idxs)\n",
    "        # return only the bounding boxes that were picked\n",
    "    return boxes[pick]"
   ]
  },
  {
   "cell_type": "markdown",
   "metadata": {},
   "source": [
    "Nếu tập các điểm trống chứng tỏ chưa có đối tượng nào được phát hiện trong bài toán nên ta trả về dữ liệu rông.\n",
    "\n",
    "pick = [] là tập các hộp mà chọn thõa mãn yêu cầu.\n",
    "\n",
    "x1, x2,y1, y2: là mảng tọa độ của các hộp được tách riêng ra từng mảng.\n",
    "\n",
    "Ví dụ :\n",
    "(x1, x2, y1, y2)\n",
    "(12, 84, 140, 212),\n",
    "(24, 84, 152, 212),\n",
    "(36, 84, 164, 212),\n",
    "(12, 96, 140, 224),\n",
    "(24, 96, 152, 224),\n",
    "(24, 108, 152, 236)])),\n",
    "\n",
    "ta có x1 = [12,24,36,12,24,24]\n",
    "x2 =[84,84,84,96,96,108]\n",
    "tương tự cho y1 và y2\n",
    "\n",
    "np.argsort(y2)\n",
    "\n",
    "ví dụ ta có \n",
    "y2 = [2,1,3,3,4,2]\n",
    "\n",
    "np.argsort(y2) = [1, 0, 5, 2, 3, 4] # vị trí của phần tử đó khi được sắp xếp tăng dần.\n",
    "\n",
    "Việc sắp xếp này do chúng ta cần tính tỉ lệ trùng lặp của các hộp giới hạn khác sau này trong hàm này.\n",
    "\n",
    "Tham khảo thêm : https://www.pyimagesearch.com/2014/11/17/non-maximum-suppression-object-detection-python/?fbclid=IwAR3RonYxeUznDsWb35NvZxZNX9vffQMAeJfiXvx1H0K0eaFGAiwvlCtqN68"
   ]
  },
  {
   "cell_type": "code",
   "execution_count": 3,
   "metadata": {},
   "outputs": [
    {
     "name": "stdout",
     "output_type": "stream",
     "text": [
      "x1 :  [12 24 36 12 24 24]\n",
      "y1 :  [ 84  84  84  96  96 108]\n",
      "x2 :  [140 152 164 140 152 152]\n",
      "y2 :  [212 212 212 224 224 236]\n",
      "area :  [16641 16641 16641 16641 16641 16641]\n",
      "idxs :  [0 1 2 3 4 5]\n",
      "pick :  [5]\n",
      "suppress :  [5]\n",
      "idxs :  []\n",
      "[[ 24 108 152 236]]\n"
     ]
    }
   ],
   "source": [
    "X = np.array([(12, 84, 140, 212),(24, 84, 152, 212),(36, 84, 164, 212),\n",
    "              (12, 96, 140, 224),(24, 96, 152, 224),(24, 108, 152, 236)])\n",
    "\n",
    "print( non_maxium_suppression(X, 0.3))"
   ]
  },
  {
   "cell_type": "code",
   "execution_count": null,
   "metadata": {},
   "outputs": [],
   "source": []
  }
 ],
 "metadata": {
  "kernelspec": {
   "display_name": "Python 3",
   "language": "python",
   "name": "python3"
  },
  "language_info": {
   "codemirror_mode": {
    "name": "ipython",
    "version": 3
   },
   "file_extension": ".py",
   "mimetype": "text/x-python",
   "name": "python",
   "nbconvert_exporter": "python",
   "pygments_lexer": "ipython3",
   "version": "3.6.7"
  }
 },
 "nbformat": 4,
 "nbformat_minor": 2
}
