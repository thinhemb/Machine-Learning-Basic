{
 "cells": [
  {
   "cell_type": "code",
   "execution_count": 1,
   "metadata": {},
   "outputs": [],
   "source": [
    "import torch\n",
    "import torch.nn as nn"
   ]
  },
  {
   "cell_type": "code",
   "execution_count": 2,
   "metadata": {},
   "outputs": [],
   "source": [
    "class Flatten(nn.Module):\n",
    "    def forward(self, x):\n",
    "        size=x.size()[1:]\n",
    "        num_features=1\n",
    "        for s in size:\n",
    "            num_features*=s\n",
    "        return x.view(-1,num_features)"
   ]
  },
  {
   "cell_type": "code",
   "execution_count": 3,
   "metadata": {},
   "outputs": [],
   "source": [
    "net=nn.Sequential()\n",
    "net.add_module(\"conv1\", nn.Conv2d(1,6,3))\n",
    "net.add_module(\"ReLU\",nn.ReLU())\n",
    "net.add_module(\"Maxpooling1\",nn.MaxPool2d(2))\n",
    "\n",
    "net.add_module(\"Conv2\",nn.Conv2d(6,16,3))\n",
    "net.add_module(\"ReLU\",nn.ReLU())\n",
    "net.add_module(\"Maxpooling2\",nn.MaxPool2d(2))\n",
    "net.add_module(\"Flatten\",Flatten())\n",
    "\n",
    "net.add_module(\"Fc1\",nn.Linear(16*6*6,120))\n",
    "net.add_module(\"Fc2\",nn.Linear(120,84))\n",
    "net.add_module(\"Fc3\",nn.Linear(84,10))"
   ]
  },
  {
   "cell_type": "code",
   "execution_count": 4,
   "metadata": {},
   "outputs": [
    {
     "name": "stdout",
     "output_type": "stream",
     "text": [
      "Sequential(\n",
      "  (conv1): Conv2d(1, 6, kernel_size=(3, 3), stride=(1, 1))\n",
      "  (ReLU): ReLU()\n",
      "  (Maxpooling1): MaxPool2d(kernel_size=2, stride=2, padding=0, dilation=1, ceil_mode=False)\n",
      "  (Conv2): Conv2d(6, 16, kernel_size=(3, 3), stride=(1, 1))\n",
      "  (Maxpooling2): MaxPool2d(kernel_size=2, stride=2, padding=0, dilation=1, ceil_mode=False)\n",
      "  (Flatten): Flatten()\n",
      "  (Fc1): Linear(in_features=576, out_features=120, bias=True)\n",
      "  (Fc2): Linear(in_features=120, out_features=84, bias=True)\n",
      "  (Fc3): Linear(in_features=84, out_features=10, bias=True)\n",
      ")\n"
     ]
    }
   ],
   "source": [
    "print(net)"
   ]
  },
  {
   "cell_type": "code",
   "execution_count": 5,
   "metadata": {},
   "outputs": [
    {
     "name": "stdout",
     "output_type": "stream",
     "text": [
      "torch.Size([1, 10])\n"
     ]
    }
   ],
   "source": [
    "input=torch.randn(1,1,32,32) #batch_size=1 channel=1 height=32 width=32\n",
    "out=net(input)\n",
    "print(out.shape)\n"
   ]
  }
 ],
 "metadata": {
  "interpreter": {
   "hash": "916dbcbb3f70747c44a77c7bcd40155683ae19c65e1c03b4aa3499c5328201f1"
  },
  "kernelspec": {
   "display_name": "Python 3.8.10 64-bit",
   "language": "python",
   "name": "python3"
  },
  "language_info": {
   "codemirror_mode": {
    "name": "ipython",
    "version": 3
   },
   "file_extension": ".py",
   "mimetype": "text/x-python",
   "name": "python",
   "nbconvert_exporter": "python",
   "pygments_lexer": "ipython3",
   "version": "3.8.10"
  },
  "orig_nbformat": 4
 },
 "nbformat": 4,
 "nbformat_minor": 2
}
